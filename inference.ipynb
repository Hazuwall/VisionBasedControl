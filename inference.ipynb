{
 "cells": [
  {
   "cell_type": "code",
   "execution_count": null,
   "metadata": {},
   "outputs": [],
   "source": [
    "import matplotlib.pyplot as plt\n",
    "import tensorflow as tf\n",
    "from environment import Robot\n",
    "from detection import ObjectDetector\n",
    "import control_utils\n",
    "import network_utils\n",
    "\n",
    "robot = Robot() # при инициализации должна быть запущена сцена в CoppeliaSim\n",
    "robot.reset(do_orientate=True, is_dynamic=True)\n",
    "detector = ObjectDetector()\n",
    "network = network_utils.create_control_network()\n",
    "network.load_weights(\"model.h5\")"
   ]
  },
  {
   "cell_type": "code",
   "execution_count": null,
   "metadata": {
    "tags": []
   },
   "outputs": [],
   "source": [
    "# Проверить визуальную обратную связь\n",
    "img, depth_map = robot.get_vision_feedback()\n",
    "plt.title(\"Изображение\")\n",
    "plt.imshow(img)\n",
    "plt.show()\n",
    "rect = detector.detect(img)\n",
    "print(\"Прямоугольник объекта: {}\".format(rect))\n",
    "plt.title(\"Карта глубины\")\n",
    "plt.imshow(depth_map)\n",
    "plt.show()"
   ]
  },
  {
   "cell_type": "code",
   "execution_count": null,
   "metadata": {},
   "outputs": [],
   "source": [
    "# Сбросить статистику по эпизодам\n",
    "success_count = 0\n",
    "total_count = 0"
   ]
  },
  {
   "cell_type": "code",
   "execution_count": null,
   "metadata": {
    "tags": []
   },
   "outputs": [],
   "source": [
    "# Запустить симуляцию поиска и приближения к целевому объекту\n",
    "episodes = 3\n",
    "\n",
    "total_count += episodes\n",
    "for i in range(episodes):\n",
    "    robot.reset(is_dynamic=True, do_orientate=False)\n",
    "    success = control_utils.find_and_approach(robot, detector, network)\n",
    "    if success:\n",
    "        success_count+=1\n",
    "print(success_count / total_count)"
   ]
  },
  {
   "cell_type": "code",
   "execution_count": null,
   "metadata": {},
   "outputs": [],
   "source": []
  }
 ],
 "metadata": {
  "language_info": {
   "codemirror_mode": {
    "name": "ipython",
    "version": 3
   },
   "file_extension": ".py",
   "mimetype": "text/x-python",
   "name": "python",
   "nbconvert_exporter": "python",
   "pygments_lexer": "ipython3",
   "version": "3.7.6-final"
  },
  "orig_nbformat": 2,
  "kernelspec": {
   "name": "python37664bit27b68563cbcb4ae2858dca7a23408f1d",
   "display_name": "Python 3.7.6 64-bit"
  }
 },
 "nbformat": 4,
 "nbformat_minor": 2
}